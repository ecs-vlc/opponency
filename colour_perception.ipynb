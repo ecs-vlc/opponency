{
 "cells": [
  {
   "cell_type": "markdown",
   "metadata": {},
   "source": [
    "# Colour Perception in Humans and Machines\n",
    "\n",
    "In this notebook we compare the perceived similarity in colour for RetinaNet with that of Humans and the statistics of natural scenes. These plots correspond to Figure 5 from the paper.\n",
    "\n",
    "**Note**: Unfortunately we can't share all the models for this experiment (due to file size restrictions) so the first two cells can't be run in colab.\n",
    "\n",
    "## Our Models"
   ]
  },
  {
   "cell_type": "code",
   "execution_count": 57,
   "metadata": {},
   "outputs": [],
   "source": [
    "''' Can't run in colab '''\n",
    "import colorsys\n",
    "import numpy as np\n",
    "import torch\n",
    "from training.model import BaselineModel \n",
    "from statistics.wavelength import wavelength_to_rgb\n",
    "\n",
    "def response_to_wavelength(model, layer, wavelength):\n",
    "    wavelength = torch.tensor([float(wavelength)], requires_grad=True)\n",
    "    rgb = wavelength_to_rgb(wavelength, gamma=0.7)\n",
    "    \n",
    "    stimulus = torch.ones((1,32,32,3), requires_grad=False) * rgb\n",
    "    stimulus = stimulus.permute(0, 3, 2, 1)\n",
    "    \n",
    "    model.forward_to_layer(stimulus, layer).mean().backward()\n",
    "\n",
    "    return wavelength.grad, rgb\n",
    "\n",
    "\n",
    "def compute_response_to_wavelengths(model, layer, inc=0.5, threshold=1e-4):\n",
    "    responses = []\n",
    "\n",
    "    step = 10\n",
    "    for i in np.concatenate((np.arange(395, 645, step), [644])):\n",
    "        base = response_to_wavelength(model, layer, i)\n",
    "        responses.append(base[0])\n",
    "\n",
    "    return np.array(responses)\n",
    "\n",
    "\n",
    "def get_distances(model_dir=None, pretrained=True, cmode='colour'):\n",
    "    distances = []\n",
    "    \n",
    "    for d_vvs in [1, 2, 3, 4]:\n",
    "        for n_bn in [1, 2, 4, 8, 16, 32]:\n",
    "            for t in range(4):\n",
    "                n_ch = 1 if cmode == 'grey' else 3\n",
    "                model = BaselineModel(n_bn, d_vvs, n_ch)\n",
    "\n",
    "                if pretrained:\n",
    "                    model.load_state_dict(torch.load(f'{model_dir}/model_{n_bn}_{d_vvs}_{t}.pt', map_location='cpu'))\n",
    "\n",
    "                r = compute_response_to_wavelengths(model, f'ventral_relu{d_vvs - 1}')\n",
    "                distances.append(r)\n",
    "\n",
    "    distances = np.array(distances)\n",
    "    return distances\n",
    "\n",
    "distances = get_distances('../models/colour')\n",
    "rand_distances = get_distances(pretrained=False)"
   ]
  },
  {
   "cell_type": "code",
   "execution_count": 64,
   "metadata": {},
   "outputs": [
    {
     "data": {
      "image/png": "[encoded data removed]",
      "text/plain": [
       "<Figure size 216x180 with 1 Axes>"
      ]
     },
     "metadata": {
      "needs_background": "light"
     },
     "output_type": "display_data"
    }
   ],
   "source": [
    "''' Can't run in colab '''\n",
    "from scipy import stats\n",
    "%matplotlib inline\n",
    "import matplotlib.pyplot as plt\n",
    "\n",
    "plt.figure(figsize=(3,2.5))\n",
    "\n",
    "sems = stats.sem(np.abs(distances) * 10000, axis=0)\n",
    "means = (np.abs(distances) * 10000).mean(axis=0)\n",
    "\n",
    "w = np.concatenate((np.arange(395, 645, 10), [644]))\n",
    "plt.plot(w, means, linestyle='-')\n",
    "plt.fill_between(w, means - sems, means + sems, alpha=0.2)\n",
    "\n",
    "plt.xlim(400, 700)\n",
    "\n",
    "plt.xlabel('Wavelength')\n",
    "plt.ylabel('Sensitivity')\n",
    "plt.savefig('figures/similarity_retinanet.pdf', bbox_inches='tight')"
   ]
  },
  {
   "cell_type": "code",
   "execution_count": 66,
   "metadata": {},
   "outputs": [
    {
     "data": {
      "image/png": "[encoded data removed]",
      "text/plain": [
       "<Figure size 216x180 with 1 Axes>"
      ]
     },
     "metadata": {
      "needs_background": "light"
     },
     "output_type": "display_data"
    }
   ],
   "source": [
    "''' Can't run in colab '''\n",
    "from scipy import stats\n",
    "%matplotlib inline\n",
    "import matplotlib.pyplot as plt\n",
    "\n",
    "plt.figure(figsize=(3,2.5))\n",
    "\n",
    "sems = stats.sem(np.abs(rand_distances) * 10000, axis=0)\n",
    "means = (np.abs(rand_distances) * 10000).mean(axis=0)\n",
    "\n",
    "w = np.concatenate((np.arange(395, 645, 10), [644]))\n",
    "plt.plot(w, means, linestyle='-', color='C1')\n",
    "plt.fill_between(w, means - sems, means + sems, alpha=0.2, color='C1')\n",
    "\n",
    "plt.xlim(400, 700)\n",
    "\n",
    "plt.xlabel('Wavelength')\n",
    "plt.ylabel('Sensitivity')\n",
    "plt.savefig('figures/similarity_random.pdf', bbox_inches='tight')"
   ]
  },
  {
   "cell_type": "markdown",
   "metadata": {},
   "source": [
    "## Load Dependencies - Colab Only"
   ]
  },
  {
   "cell_type": "code",
   "execution_count": null,
   "metadata": {},
   "outputs": [],
   "source": [
    "from os.path import exists\n",
    "if not exists('opponency.zip'):\n",
    "    !wget -O opponency.zip https://github.com/ecs-vlc/opponency/archive/master.zip\n",
    "    !unzip -qq opponency.zip\n",
    "    !mv opponency-master/* ./\n",
    "    !rm -r opponency-master"
   ]
  },
  {
   "cell_type": "markdown",
   "metadata": {},
   "source": [
    "## Other Plots"
   ]
  },
  {
   "cell_type": "code",
   "execution_count": 15,
   "metadata": {},
   "outputs": [
    {
     "data": {
      "image/png": "[encoded data removed]",
      "text/plain": [
       "<Figure size 216x180 with 1 Axes>"
      ]
     },
     "metadata": {
      "needs_background": "light"
     },
     "output_type": "display_data"
    }
   ],
   "source": [
    "import pandas as pd\n",
    "bedford = pd.read_csv('bedford1958.csv', names=['wavelength', 'sensitivity'], header=None)\n",
    "bedford[bedford.wavelength.between(380, 650)].plot('wavelength', 'sensitivity', legend=False, figsize=(3,2.5), linestyle='-')\n",
    "\n",
    "plt.xlim(400, 700)\n",
    "plt.xlabel('Wavelength')\n",
    "plt.ylabel('Perceptual Similarity')\n",
    "plt.savefig('figures/similarity_bedford.pdf', bbox_inches='tight')"
   ]
  },
  {
   "cell_type": "code",
   "execution_count": 84,
   "metadata": {},
   "outputs": [
    {
     "data": {
      "image/png": "[encoded data removed]",
      "text/plain": [
       "<Figure size 216x180 with 1 Axes>"
      ]
     },
     "metadata": {
      "needs_background": "light"
     },
     "output_type": "display_data"
    }
   ],
   "source": [
    "import pandas as pd\n",
    "\n",
    "long = pd.read_csv('long2006.csv', names=['wavelength', 'sensitivity'], header=None)\n",
    "# long = long[long.wavelength.between(420, 650)]  # .plot('wavelength', 'sensitivity')\n",
    "# bedford\n",
    "import numpy as np\n",
    "p = np.poly1d(np.polyfit(long.wavelength, long.sensitivity, 8))\n",
    "import matplotlib.pyplot as plt\n",
    "\n",
    "x = np.linspace(430, 600, 1000)\n",
    "\n",
    "plt.figure(figsize=(3,2.5))\n",
    "plt.plot(x, p(x), linestyle='-')\n",
    "plt.xlim(400, 700)\n",
    "plt.xlabel('Wavelength')\n",
    "plt.ylabel('Predicted Similarity')\n",
    "plt.savefig('figures/similarity_long.pdf', bbox_inches='tight')"
   ]
  },
  {
   "cell_type": "code",
   "execution_count": null,
   "metadata": {},
   "outputs": [],
   "source": []
  }
 ],
 "metadata": {
  "kernelspec": {
   "display_name": "Python 3",
   "language": "python",
   "name": "python3"
  },
  "language_info": {
   "codemirror_mode": {
    "name": "ipython",
    "version": 3
   },
   "file_extension": ".py",
   "mimetype": "text/x-python",
   "name": "python",
   "nbconvert_exporter": "python",
   "pygments_lexer": "ipython3",
   "version": "3.7.6"
  }
 },
 "nbformat": 4,
 "nbformat_minor": 2
}
