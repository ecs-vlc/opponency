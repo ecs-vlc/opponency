{
 "cells": [
  {
   "cell_type": "code",
   "execution_count": 3,
   "metadata": {},
   "outputs": [
    {
     "name": "stderr",
     "output_type": "stream",
     "text": [
      "Using cache found in /home/ethan/.cache/torch/hub/ecs-vlc_opponency_master\n"
     ]
    }
   ],
   "source": [
    "import torch\n",
    "model = torch.hub.load('ecs-vlc/opponency:master', 'colour_full', n_bn=32, d_vvs=2, rep=0)"
   ]
  },
  {
   "cell_type": "code",
   "execution_count": 4,
   "metadata": {},
   "outputs": [
    {
     "data": {
      "text/plain": [
       "BaselineModel(\n",
       "  (retina_conv1): Conv2d(3, 32, kernel_size=(9, 9), stride=(1, 1), padding=(4, 4))\n",
       "  (retina_relu1): ReLU()\n",
       "  (retina_conv2): Conv2d(32, 32, kernel_size=(9, 9), stride=(1, 1), padding=(4, 4))\n",
       "  (retina_relu2): ReLU()\n",
       "  (ventral_conv0): Conv2d(32, 32, kernel_size=(9, 9), stride=(1, 1), padding=(4, 4))\n",
       "  (ventral_relu0): ReLU()\n",
       "  (ventral_conv1): Conv2d(32, 32, kernel_size=(9, 9), stride=(1, 1), padding=(4, 4))\n",
       "  (ventral_relu1): ReLU()\n",
       "  (ventral_flatten): Flatten()\n",
       "  (ventral_fc1): Linear(in_features=32768, out_features=1024, bias=True)\n",
       "  (ventral_fc1_relu): ReLU()\n",
       "  (ventral_fc2): Linear(in_features=1024, out_features=10, bias=True)\n",
       ")"
      ]
     },
     "execution_count": 4,
     "metadata": {},
     "output_type": "execute_result"
    }
   ],
   "source": [
    "model"
   ]
  },
  {
   "cell_type": "code",
   "execution_count": null,
   "metadata": {},
   "outputs": [],
   "source": []
  }
 ],
 "metadata": {
  "kernelspec": {
   "display_name": "Python 3",
   "language": "python",
   "name": "python3"
  },
  "language_info": {
   "codemirror_mode": {
    "name": "ipython",
    "version": 3
   },
   "file_extension": ".py",
   "mimetype": "text/x-python",
   "name": "python",
   "nbconvert_exporter": "python",
   "pygments_lexer": "ipython3",
   "version": "3.7.6"
  }
 },
 "nbformat": 4,
 "nbformat_minor": 4
}
