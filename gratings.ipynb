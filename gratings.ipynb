{
 "cells": [
  {
   "cell_type": "markdown",
   "metadata": {},
   "source": [
    "# Examples of grating patterns\n",
    "\n",
    "This notebook shows a few examples of grating patterns used as stimuli for the spatial opponency experiments. It corresponds to Figure 5 in the appendinx.\n",
    "\n",
    "**Note**: The easiest way to use this is as a colab notebook, which allows you to dive in with no setup.\n",
    "\n",
    "## Load Dependencies - Colab Only"
   ]
  },
  {
   "cell_type": "code",
   "execution_count": null,
   "metadata": {},
   "outputs": [],
   "source": [
    "from os.path import exists\n",
    "if not exists('opponency.zip'):\n",
    "    !wget -O opponency.zip https://github.com/ecs-vlc/opponency/archive/master.zip\n",
    "    !unzip -qq opponency.zip\n",
    "    !mv opponency-master/* ./\n",
    "    !rm -r opponency-master"
   ]
  },
  {
   "cell_type": "markdown",
   "metadata": {},
   "source": [
    "## Generate Plots"
   ]
  },
  {
   "cell_type": "code",
   "execution_count": 3,
   "metadata": {},
   "outputs": [
    {
     "data": {
      "image/png": "[encoded data removed]",
      "text/plain": [
       "<Figure size 432x288 with 1 Axes>"
      ]
     },
     "metadata": {
      "needs_background": "light"
     },
     "output_type": "display_data"
    },
    {
     "data": {
      "image/png": "[encoded data removed]",
      "text/plain": [
       "<Figure size 432x288 with 1 Axes>"
      ]
     },
     "metadata": {
      "needs_background": "light"
     },
     "output_type": "display_data"
    },
    {
     "data": {
      "image/png": "[encoded data removed]",
      "text/plain": [
       "<Figure size 432x288 with 1 Axes>"
      ]
     },
     "metadata": {
      "needs_background": "light"
     },
     "output_type": "display_data"
    },
    {
     "data": {
      "image/png": "[encoded data removed]",
      "text/plain": [
       "<Figure size 432x288 with 1 Axes>"
      ]
     },
     "metadata": {
      "needs_background": "light"
     },
     "output_type": "display_data"
    }
   ],
   "source": [
    "import numpy as np\n",
    "%matplotlib inline\n",
    "import matplotlib.pyplot as plt \n",
    "from statistics.gratings import *\n",
    "\n",
    "freq = 8/(2*np.pi)\n",
    "for degrees in [0, 45, 90, 135]:  # [0, np.pi/4, np.pi*2/3, np.pi/2]:\n",
    "    theta = degrees * np.pi / 180\n",
    "    grating = (make_grating(freq, theta, p))\n",
    "    grating = torch.stack([grating, grating, grating], dim=2)\n",
    "    plt.figure()\n",
    "    plt.axis('off')\n",
    "    plt.imshow(grating)\n",
    "    plt.savefig('figures/' + str(degrees) + \"_grey.eps\", bbox_inches='tight')"
   ]
  },
  {
   "cell_type": "code",
   "execution_count": null,
   "metadata": {},
   "outputs": [],
   "source": []
  }
 ],
 "metadata": {
  "kernelspec": {
   "display_name": "Python 3",
   "language": "python",
   "name": "python3"
  },
  "language_info": {
   "codemirror_mode": {
    "name": "ipython",
    "version": 3
   },
   "file_extension": ".py",
   "mimetype": "text/x-python",
   "name": "python",
   "nbconvert_exporter": "python",
   "pygments_lexer": "ipython3",
   "version": "3.7.3"
  }
 },
 "nbformat": 4,
 "nbformat_minor": 2
}
