{
 "cells": [
  {
   "cell_type": "markdown",
   "metadata": {},
   "source": [
    "# Generalisation to CIELAB space\n",
    "\n",
    "This notebook plots the distribution of double opponent cells in different layers of our model trained on CIELAB images as a function of bottleneck size. The distribution is nearly identical to that of networks trained on images in RGB space. It corresponds to Figure 3(a) in the paper.\n",
    "\n",
    "**Note**: The easiest way to use this is as a colab notebook, which allows you to dive in with no setup.\n",
    "\n",
    "## Load Dependencies - Colab Only"
   ]
  },
  {
   "cell_type": "code",
   "execution_count": null,
   "metadata": {},
   "outputs": [],
   "source": [
    "from os.path import exists\n",
    "if not exists('opponency.zip'):\n",
    "    !wget -O opponency.zip https://github.com/ecs-vlc/opponency/archive/master.zip\n",
    "    !unzip -qq opponency.zip\n",
    "    !mv opponency-master/* ./\n",
    "    !rm -r opponency-master"
   ]
  },
  {
   "cell_type": "markdown",
   "metadata": {},
   "source": [
    "## Generate Plots"
   ]
  },
  {
   "cell_type": "code",
   "execution_count": 1,
   "metadata": {},
   "outputs": [
    {
     "data": {
      "image/png": "[encoded data removed]",
      "text/plain": [
       "<Figure size 216x180 with 1 Axes>"
      ]
     },
     "metadata": {
      "needs_background": "light"
     },
     "output_type": "display_data"
    }
   ],
   "source": [
    "%matplotlib inline\n",
    "import matplotlib.pyplot as plt\n",
    "import pandas as pd\n",
    "import numpy as np\n",
    "\n",
    "from statistics import load\n",
    "\n",
    "plt.figure(figsize=(3,2.5))\n",
    "\n",
    "spatial = pd.read_pickle('logs/spatial-lab.pd')\n",
    "spectral = pd.read_pickle('logs/devalois-lab.pd')\n",
    "\n",
    "LAB_opps = load.double(spectral, spatial)\n",
    "retina2 = LAB_opps[LAB_opps['layer'] == 'retina_relu2']\n",
    "ventral0 = LAB_opps[LAB_opps['layer'] == 'ventral_relu0']\n",
    "ventral1 = LAB_opps[LAB_opps['layer'] == 'ventral_relu1']\n",
    "\n",
    "plt.errorbar(retina2['n_bn'], retina2['mean_rel_amount'], yerr=retina2['std_rel_amount'], label='Retina2', linestyle=':')\n",
    "plt.errorbar(ventral0['n_bn'], ventral0['mean_rel_amount'], yerr=ventral0['std_rel_amount'], label='Ventral1', linestyle='--')\n",
    "plt.errorbar(ventral1['n_bn'], ventral1['mean_rel_amount'], yerr=ventral1['std_rel_amount'], label='Ventral2', linestyle='-.')\n",
    "\n",
    "plt.tight_layout()\n",
    "\n",
    "plt.xlabel('Bottleneck Size')\n",
    "plt.ylabel('Percentage \\nDouble Opponent')\n",
    "plt.xlim(1, 32)\n",
    "plt.ylim(0, 1)\n",
    "plt.savefig('figures/double_lab.pdf', bbox_inches='tight')"
   ]
  },
  {
   "cell_type": "code",
   "execution_count": null,
   "metadata": {},
   "outputs": [],
   "source": []
  }
 ],
 "metadata": {
  "kernelspec": {
   "display_name": "Python 3",
   "language": "python",
   "name": "python3"
  },
  "language_info": {
   "codemirror_mode": {
    "name": "ipython",
    "version": 3
   },
   "file_extension": ".py",
   "mimetype": "text/x-python",
   "name": "python",
   "nbconvert_exporter": "python",
   "pygments_lexer": "ipython3",
   "version": "3.7.3"
  }
 },
 "nbformat": 4,
 "nbformat_minor": 2
}
